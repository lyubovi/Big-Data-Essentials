{
 "cells": [
  {
   "cell_type": "code",
   "execution_count": 29,
   "metadata": {},
   "outputs": [
    {
     "name": "stdout",
     "output_type": "stream",
     "text": [
      "Overwriting mapper4.py\n"
     ]
    }
   ],
   "source": [
    "%%writefile mapper4.py\n",
    "\n",
    "import sys\n",
    "import re\n",
    "\n",
    "def read_stopwords(file_path):\n",
    "    return set(word.strip() for word in open(file_path))\n",
    "\n",
    "reload(sys)\n",
    "sys.setdefaultencoding('utf-8') # required to convert to unicode\n",
    "\n",
    "stop_words = read_stopwords('stop_words_en.txt')\n",
    "\n",
    "for line in sys.stdin:\n",
    "    try:\n",
    "        article_id, text = unicode(line.strip()).split('\\t', 1)\n",
    "    except ValueError as e:\n",
    "        continue\n",
    "    text = re.sub(\"^\\W+|\\W+$\", \"\", text, flags=re.UNICODE)\n",
    "    words = re.split(\"\\W*\\s+\\W*\", text, flags=re.UNICODE)\n",
    "    for word in words:\n",
    "        word = word.strip()\n",
    "        if word and len(word) > 1 and word.isalpha():\n",
    "            if word.lower() in stop_words:\n",
    "                continue\n",
    "            wordList = list(word.lower())\n",
    "            wordset = set(wordList)\n",
    "            if len(wordset) > 1:\n",
    "                wordList.sort()\n",
    "                print (\"%s\\t%s\\t%d\" % (''.join(wordList), word.lower(), 1))\n",
    "            "
   ]
  },
  {
   "cell_type": "code",
   "execution_count": 17,
   "metadata": {},
   "outputs": [
    {
     "name": "stdout",
     "output_type": "stream",
     "text": [
      "Overwriting reducer4.py\n"
     ]
    }
   ],
   "source": [
    "%%writefile reducer4.py\n",
    "\n",
    "import sys\n",
    "\n",
    "current_anagram = None\n",
    "current_word = None\n",
    "word_count = 0\n",
    "a_count = 0\n",
    "\n",
    "\n",
    "for line in sys.stdin:\n",
    "    try:\n",
    "        anagram, word, count = line.strip().split('\\t', 2)\n",
    "        count = int(count)\n",
    "    except ValueError as e:\n",
    "        continue\n",
    "    if current_word == word:\n",
    "        word_count += count\n",
    "    else:\n",
    "        if current_anagram:\n",
    "            if current_word:\n",
    "                print (\"%s\\t%s\\t%d\" % (current_anagram, current_word, word_count))\n",
    "        word_count = count\n",
    "        current_anagram = anagram\n",
    "        current_word = word\n",
    "\n",
    "if current_anagram and current_word:\n",
    "    print (\"%s\\t%s\\t%d\" % (current_anagram, current_word, word_count))"
   ]
  },
  {
   "cell_type": "code",
   "execution_count": 24,
   "metadata": {},
   "outputs": [
    {
     "name": "stdout",
     "output_type": "stream",
     "text": [
      "Overwriting reducer4a.py\n"
     ]
    }
   ],
   "source": [
    "%%writefile reducer4a.py\n",
    "\n",
    "import sys\n",
    "\n",
    "current_anagram = None\n",
    "current_word = None\n",
    "total_count = 0\n",
    "word_count = 0\n",
    "word_list = []\n",
    "\n",
    "\n",
    "for line in sys.stdin:\n",
    "    try:\n",
    "        anagram, word, count = line.strip().split('\\t', 2)\n",
    "        count = int(count)\n",
    "    except ValueError as e:\n",
    "        continue\n",
    "    #print(\"--- %s\\t%s\\t%d\" % (anagram, word, count))\n",
    "    #print(\"*** %s\\t%s\" % (current_anagram, current_word))\n",
    "    if current_anagram and current_anagram == anagram and current_word == word:\n",
    "        total_count += count\n",
    "        continue\n",
    "    if current_anagram and current_anagram == anagram:\n",
    "        word_list.append(word)\n",
    "        #print(','.join(word_list))w\n",
    "        total_count += count    \n",
    "        word_count += 1\n",
    "        current_word = word\n",
    "    else:\n",
    "        if current_anagram:\n",
    "            if current_word and word_count > 1:  \n",
    "                word_set = set(word_list) \n",
    "                if len(word_set):\n",
    "                    word_list = list(word_set)\n",
    "                    word_list.sort()\n",
    "                    print (\"%d\\t%d\\t%s\" % (total_count, len(word_list), ','.join(word_list)))\n",
    "        word_count = 1\n",
    "        total_count = count\n",
    "        word_list = []\n",
    "        word_list.append(word)\n",
    "        current_anagram = anagram\n",
    "        current_word = word\n",
    "\n",
    "if current_anagram and current_word:\n",
    "    word_list.sort()\n",
    "    print (\"%d\\t%d\\t%s\" % (total_count, word_count, ','.join(word_list)))"
   ]
  },
  {
   "cell_type": "code",
   "execution_count": 35,
   "metadata": {},
   "outputs": [
    {
     "name": "stdout",
     "output_type": "stream",
     "text": [
      "Overwriting mapper4b.py\n"
     ]
    }
   ],
   "source": [
    "%%writefile mapper4b.py\n",
    "\n",
    "import sys\n",
    "import re\n",
    "\n",
    "#reload(sys)\n",
    "#sys.setdefaultencoding('utf-8') # required to convert to unicode\n",
    "\n",
    "for line in sys.stdin:\n",
    "    try:\n",
    "        total_count, word_count, str = line.strip().split('\\t', 2)\n",
    "        total_count = int(total_count)\n",
    "        word_count = int(word_count)\n",
    "    except ValueError as e:\n",
    "        continue\n",
    "    if word_count > 1:\n",
    "        print (\"%d\\t%d\\t%s\" % (total_count, word_count, str))\n",
    "\n"
   ]
  },
  {
   "cell_type": "code",
   "execution_count": 5,
   "metadata": {},
   "outputs": [
    {
     "name": "stdout",
     "output_type": "stream",
     "text": [
      "Found 1 items\r\n",
      "drwxrwxrwx   - jovyan supergroup          0 2017-10-17 13:15 /data/wiki/en_articles_part\r\n"
     ]
    }
   ],
   "source": [
    "! hdfs dfs -ls /data/wiki"
   ]
  },
  {
   "cell_type": "code",
   "execution_count": 30,
   "metadata": {},
   "outputs": [],
   "source": [
    "%%bash\n",
    "\n",
    "OUT_DIR=\"wc_result_\"$(date +\"%s%6N\")\n",
    "NUM_REDUCERS=4\n",
    "OUT_DIR1=\"anagram_int_\"$(date +\"%s%6N\")\n",
    "OUT_DIR2=\"anagram_result_\"$(date +\"%s%6N\")\n",
    "\n",
    "hdfs dfs -rm -r -skipTrash ${OUT_DIR} > /dev/null\n",
    "hdfs dfs -rm -r -skipTrash ${OUT_DIR1} > /dev/null\n",
    "hdfs dfs -rm -r -skipTrash ${OUT_DIR2} > /dev/null\n",
    "\n",
    "yarn jar /opt/cloudera/parcels/CDH/lib/hadoop-mapreduce/hadoop-streaming.jar \\\n",
    "    -D mapred.jab.name=\"Streaming wordCount\" \\\n",
    "    -D mapreduce.job.reduces=${NUM_REDUCERS} \\\n",
    "    -D stream.num.map.output.key.fields=2 \\\n",
    "    -D mapreduce.partition.keypartitioner.options=-k1,2 \\\n",
    "    -files mapper4.py,reducer4.py,/datasets/stop_words_en.txt \\\n",
    "    -mapper \"python mapper4.py\" \\\n",
    "    -reducer \"python reducer4.py\" \\\n",
    "    -partitioner org.apache.hadoop.mapred.lib.KeyFieldBasedPartitioner \\\n",
    "    -input /data/wiki/en_articles_part \\\n",
    "    -output ${OUT_DIR} > /dev/null \n",
    "    \n",
    "\n",
    "yarn jar /opt/cloudera/parcels/CDH/lib/hadoop-mapreduce/hadoop-streaming.jar \\\n",
    "    -D mapred.jab.name=\"Anagrams\" \\\n",
    "    -D mapreduce.job.reduces=${NUM_REDICERS} \\\n",
    "    -files reducer4a.py \\\n",
    "    -mapper \"cat\" \\\n",
    "    -reducer \"python reducer4a.py\" \\\n",
    "    -input ${OUT_DIR}/part* \\\n",
    "    -output ${OUT_DIR1} > /dev/null \n",
    "\n",
    "\n",
    "yarn jar /opt/cloudera/parcels/CDH/lib/hadoop-mapreduce/hadoop-streaming.jar \\\n",
    "    -D mapred.jab.name=\"Anagrams final\" \\\n",
    "    -D mapreduce.job.reduces=1 \\\n",
    "    -files mapper4b.py \\\n",
    "    -mapper \"python mapper4b.py\" \\\n",
    "    -input ${OUT_DIR1}/part* \\\n",
    "    -reducer \"cat\" \\\n",
    "    -output ${OUT_DIR2} > /dev/null \n",
    "\n",
    "hdfs dfs -cat ${OUT_DIR2}/part-00000 | grep \"english,\""
   ]
  },
  {
   "cell_type": "code",
   "execution_count": null,
   "metadata": {
    "collapsed": true
   },
   "outputs": [],
   "source": []
  },
  {
   "cell_type": "code",
   "execution_count": null,
   "metadata": {},
   "outputs": [],
   "source": []
  },
  {
   "cell_type": "code",
   "execution_count": null,
   "metadata": {},
   "outputs": [],
   "source": []
  }
 ],
 "metadata": {
  "kernelspec": {
   "display_name": "Python 2",
   "language": "python",
   "name": "python2"
  },
  "language_info": {
   "codemirror_mode": {
    "name": "ipython",
    "version": 2
   },
   "file_extension": ".py",
   "mimetype": "text/x-python",
   "name": "python",
   "nbconvert_exporter": "python",
   "pygments_lexer": "ipython2",
   "version": "2.7.12"
  }
 },
 "nbformat": 4,
 "nbformat_minor": 2
}
