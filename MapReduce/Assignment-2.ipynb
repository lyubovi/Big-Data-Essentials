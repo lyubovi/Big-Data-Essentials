{
 "cells": [
  {
   "cell_type": "code",
   "execution_count": 15,
   "metadata": {},
   "outputs": [
    {
     "name": "stdout",
     "output_type": "stream",
     "text": [
      "Overwriting mapper2.py\n"
     ]
    }
   ],
   "source": [
    "%%writefile mapper2.py\n",
    "\n",
    "import sys\n",
    "import re\n",
    "\n",
    "def read_stopwords(file_path):\n",
    "    return set(word.strip() for word in open(file_path))\n",
    "\n",
    "reload(sys)\n",
    "sys.setdefaultencoding('utf-8') # required to convert to unicode\n",
    "stop_words = read_stopwords('stop_words_en.txt')\n",
    "\n",
    "for line in sys.stdin:\n",
    "    try:\n",
    "        article_id, text = unicode(line.strip()).split('\\t', 1)\n",
    "    except ValueError as e:\n",
    "        continue\n",
    "    words = re.split(\"\\W*\\s+\\W*\", text, flags=re.UNICODE)\n",
    "    for word in words:\n",
    "        print >> sys.stderr, \"reporter:counter:Wiki stats,Total words,%d\" % 1\n",
    "        print \"%s\\t%d\" % (word.lower(), 1)\n",
    "        if word.lower() in stop_words:\n",
    "            print >> sys.stderr, \"reporter:counter:Wiki stats,Stop words,%d\" % 1"
   ]
  },
  {
   "cell_type": "code",
   "execution_count": 16,
   "metadata": {},
   "outputs": [
    {
     "name": "stdout",
     "output_type": "stream",
     "text": [
      "Overwriting reducer.py\n"
     ]
    }
   ],
   "source": [
    "%%writefile reducer.py\n",
    "\n",
    "import sys\n",
    "\n",
    "current_key = None\n",
    "word_sum = 0"
   ]
  },
  {
   "cell_type": "code",
   "execution_count": 17,
   "metadata": {},
   "outputs": [
    {
     "name": "stdout",
     "output_type": "stream",
     "text": [
      "Appending to reducer.py\n"
     ]
    }
   ],
   "source": [
    "%%writefile -a reducer.py\n",
    "\n",
    "for line in sys.stdin:\n",
    "    try:\n",
    "        key, count = line.strip().split('\\t', 1)\n",
    "        count = int(count)\n",
    "    except ValueError as e:\n",
    "        continue\n",
    "    if current_key != key:\n",
    "        if current_key:\n",
    "            print \"%s\\t%d\" % (current_key, word_sum)\n",
    "        word_sum = 0\n",
    "        current_key = key\n",
    "    word_sum += count\n",
    "\n",
    "if current_key:\n",
    "    print \"%s\\t%d\" % (current_key, word_sum)"
   ]
  },
  {
   "cell_type": "code",
   "execution_count": 18,
   "metadata": {},
   "outputs": [
    {
     "name": "stdout",
     "output_type": "stream",
     "text": [
      "Overwriting counter2.py\n"
     ]
    }
   ],
   "source": [
    "%%writefile counter2.py\n",
    "\n",
    "from __future__ import division\n",
    "import sys\n",
    "\n",
    "stop_words=0\n",
    "total_words=1\n",
    "for line in sys.stdin:\n",
    "    try:\n",
    "        key, val = line.strip().split('=', 1)\n",
    "    except ValueError as e:\n",
    "        continue\n",
    "    if key == 'Stop words':\n",
    "        stop_words = float(val)\n",
    "    if key == 'Total words':\n",
    "        total_words = float(val)\n",
    "\n",
    "print (\"%.3f\" % (stop_words / total_words * 100))"
   ]
  },
  {
   "cell_type": "code",
   "execution_count": 19,
   "metadata": {},
   "outputs": [
    {
     "name": "stdout",
     "output_type": "stream",
     "text": [
      "41.603\n"
     ]
    },
    {
     "name": "stderr",
     "output_type": "stream",
     "text": [
      "rm: `wordcount_result_1530213664603677': No such file or directory\n",
      "18/06/28 19:21:10 INFO client.RMProxy: Connecting to ResourceManager at /0.0.0.0:8032\n",
      "18/06/28 19:21:10 INFO client.RMProxy: Connecting to ResourceManager at /0.0.0.0:8032\n",
      "18/06/28 19:21:11 INFO mapred.FileInputFormat: Total input files to process : 1\n",
      "18/06/28 19:21:11 INFO mapreduce.JobSubmitter: number of splits:2\n",
      "18/06/28 19:21:12 INFO mapreduce.JobSubmitter: Submitting tokens for job: job_1530192984314_0011\n",
      "18/06/28 19:21:12 INFO impl.YarnClientImpl: Submitted application application_1530192984314_0011\n",
      "18/06/28 19:21:12 INFO mapreduce.Job: The url to track the job: http://d8449248cc2a:8088/proxy/application_1530192984314_0011/\n",
      "18/06/28 19:21:12 INFO mapreduce.Job: Running job: job_1530192984314_0011\n",
      "18/06/28 19:21:22 INFO mapreduce.Job: Job job_1530192984314_0011 running in uber mode : false\n",
      "18/06/28 19:21:22 INFO mapreduce.Job:  map 0% reduce 0%\n",
      "18/06/28 19:21:51 INFO mapreduce.Job:  map 2% reduce 0%\n",
      "18/06/28 19:21:57 INFO mapreduce.Job:  map 3% reduce 0%\n",
      "18/06/28 19:22:03 INFO mapreduce.Job:  map 5% reduce 0%\n",
      "18/06/28 19:22:09 INFO mapreduce.Job:  map 6% reduce 0%\n",
      "18/06/28 19:22:15 INFO mapreduce.Job:  map 8% reduce 0%\n",
      "18/06/28 19:22:21 INFO mapreduce.Job:  map 10% reduce 0%\n",
      "18/06/28 19:22:27 INFO mapreduce.Job:  map 11% reduce 0%\n",
      "18/06/28 19:22:34 INFO mapreduce.Job:  map 13% reduce 0%\n",
      "18/06/28 19:22:39 INFO mapreduce.Job:  map 14% reduce 0%\n",
      "18/06/28 19:22:46 INFO mapreduce.Job:  map 16% reduce 0%\n",
      "18/06/28 19:22:52 INFO mapreduce.Job:  map 18% reduce 0%\n",
      "18/06/28 19:22:58 INFO mapreduce.Job:  map 19% reduce 0%\n",
      "18/06/28 19:23:04 INFO mapreduce.Job:  map 21% reduce 0%\n",
      "18/06/28 19:23:10 INFO mapreduce.Job:  map 22% reduce 0%\n",
      "18/06/28 19:23:16 INFO mapreduce.Job:  map 24% reduce 0%\n",
      "18/06/28 19:23:22 INFO mapreduce.Job:  map 26% reduce 0%\n",
      "18/06/28 19:23:28 INFO mapreduce.Job:  map 27% reduce 0%\n",
      "18/06/28 19:23:34 INFO mapreduce.Job:  map 29% reduce 0%\n",
      "18/06/28 19:23:41 INFO mapreduce.Job:  map 30% reduce 0%\n",
      "18/06/28 19:23:46 INFO mapreduce.Job:  map 32% reduce 0%\n",
      "18/06/28 19:23:52 INFO mapreduce.Job:  map 33% reduce 0%\n",
      "18/06/28 19:23:58 INFO mapreduce.Job:  map 34% reduce 0%\n",
      "18/06/28 19:24:04 INFO mapreduce.Job:  map 36% reduce 0%\n",
      "18/06/28 19:24:10 INFO mapreduce.Job:  map 37% reduce 0%\n",
      "18/06/28 19:24:16 INFO mapreduce.Job:  map 38% reduce 0%\n",
      "18/06/28 19:24:22 INFO mapreduce.Job:  map 40% reduce 0%\n",
      "18/06/28 19:24:28 INFO mapreduce.Job:  map 41% reduce 0%\n",
      "18/06/28 19:24:34 INFO mapreduce.Job:  map 42% reduce 0%\n",
      "18/06/28 19:24:47 INFO mapreduce.Job:  map 43% reduce 0%\n",
      "18/06/28 19:24:53 INFO mapreduce.Job:  map 44% reduce 0%\n",
      "18/06/28 19:24:59 INFO mapreduce.Job:  map 45% reduce 0%\n",
      "18/06/28 19:25:05 INFO mapreduce.Job:  map 46% reduce 0%\n",
      "18/06/28 19:25:11 INFO mapreduce.Job:  map 47% reduce 0%\n",
      "18/06/28 19:25:17 INFO mapreduce.Job:  map 49% reduce 0%\n",
      "18/06/28 19:25:23 INFO mapreduce.Job:  map 50% reduce 0%\n",
      "18/06/28 19:25:29 INFO mapreduce.Job:  map 52% reduce 0%\n",
      "18/06/28 19:25:35 INFO mapreduce.Job:  map 53% reduce 0%\n",
      "18/06/28 19:25:41 INFO mapreduce.Job:  map 55% reduce 0%\n",
      "18/06/28 19:25:47 INFO mapreduce.Job:  map 56% reduce 0%\n",
      "18/06/28 19:25:53 INFO mapreduce.Job:  map 58% reduce 0%\n",
      "18/06/28 19:25:59 INFO mapreduce.Job:  map 60% reduce 0%\n",
      "18/06/28 19:26:05 INFO mapreduce.Job:  map 61% reduce 0%\n",
      "18/06/28 19:26:11 INFO mapreduce.Job:  map 63% reduce 0%\n",
      "18/06/28 19:26:17 INFO mapreduce.Job:  map 65% reduce 0%\n",
      "18/06/28 19:26:23 INFO mapreduce.Job:  map 66% reduce 0%\n",
      "18/06/28 19:26:29 INFO mapreduce.Job:  map 67% reduce 0%\n",
      "18/06/28 19:26:38 INFO mapreduce.Job:  map 83% reduce 0%\n",
      "18/06/28 19:26:41 INFO mapreduce.Job:  map 100% reduce 0%\n",
      "18/06/28 19:27:22 INFO mapreduce.Job:  map 100% reduce 25%\n",
      "18/06/28 19:27:35 INFO mapreduce.Job:  map 100% reduce 33%\n",
      "18/06/28 19:27:45 INFO mapreduce.Job:  map 100% reduce 70%\n",
      "18/06/28 19:27:51 INFO mapreduce.Job:  map 100% reduce 75%\n",
      "18/06/28 19:28:05 INFO mapreduce.Job:  map 100% reduce 100%\n",
      "18/06/28 19:28:05 INFO mapreduce.Job: Job job_1530192984314_0011 completed successfully\n",
      "18/06/28 19:28:06 INFO mapreduce.Job: Counters: 52\n",
      "\tFile System Counters\n",
      "\t\tFILE: Number of bytes read=17965521\n",
      "\t\tFILE: Number of bytes written=28264603\n",
      "\t\tFILE: Number of read operations=0\n",
      "\t\tFILE: Number of large read operations=0\n",
      "\t\tFILE: Number of write operations=0\n",
      "\t\tHDFS: Number of bytes read=76874501\n",
      "\t\tHDFS: Number of bytes written=5370513\n",
      "\t\tHDFS: Number of read operations=30\n",
      "\t\tHDFS: Number of large read operations=0\n",
      "\t\tHDFS: Number of write operations=16\n",
      "\tJob Counters \n",
      "\t\tKilled reduce tasks=2\n",
      "\t\tLaunched map tasks=2\n",
      "\t\tLaunched reduce tasks=9\n",
      "\t\tData-local map tasks=2\n",
      "\t\tTotal time spent by all maps in occupied slots (ms)=628784\n",
      "\t\tTotal time spent by all reduces in occupied slots (ms)=437138\n",
      "\t\tTotal time spent by all map tasks (ms)=628784\n",
      "\t\tTotal time spent by all reduce tasks (ms)=437138\n",
      "\t\tTotal vcore-milliseconds taken by all map tasks=628784\n",
      "\t\tTotal vcore-milliseconds taken by all reduce tasks=437138\n",
      "\t\tTotal megabyte-milliseconds taken by all map tasks=643874816\n",
      "\t\tTotal megabyte-milliseconds taken by all reduce tasks=447629312\n",
      "\tMap-Reduce Framework\n",
      "\t\tMap input records=4100\n",
      "\t\tMap output records=11937375\n",
      "\t\tMap output bytes=97842436\n",
      "\t\tMap output materialized bytes=8952763\n",
      "\t\tInput split bytes=228\n",
      "\t\tCombine input records=11937375\n",
      "\t\tCombine output records=640011\n",
      "\t\tReduce input groups=427175\n",
      "\t\tReduce shuffle bytes=8952763\n",
      "\t\tReduce input records=640011\n",
      "\t\tReduce output records=427175\n",
      "\t\tSpilled Records=1920033\n",
      "\t\tShuffled Maps =16\n",
      "\t\tFailed Shuffles=0\n",
      "\t\tMerged Map outputs=16\n",
      "\t\tGC time elapsed (ms)=9233\n",
      "\t\tCPU time spent (ms)=286610\n",
      "\t\tPhysical memory (bytes) snapshot=1018875904\n",
      "\t\tVirtual memory (bytes) snapshot=19321311232\n",
      "\t\tTotal committed heap usage (bytes)=385392640\n",
      "\tShuffle Errors\n",
      "\t\tBAD_ID=0\n",
      "\t\tCONNECTION=0\n",
      "\t\tIO_ERROR=0\n",
      "\t\tWRONG_LENGTH=0\n",
      "\t\tWRONG_MAP=0\n",
      "\t\tWRONG_REDUCE=0\n",
      "\tWiki stats\n",
      "\t\tStop words=4966261\n",
      "\t\tTotal words=11937375\n",
      "\tFile Input Format Counters \n",
      "\t\tBytes Read=76874273\n",
      "\tFile Output Format Counters \n",
      "\t\tBytes Written=5370513\n",
      "18/06/28 19:28:06 INFO streaming.StreamJob: Output directory: wordcount_result_1530213664603677\n"
     ]
    }
   ],
   "source": [
    "%%bash\n",
    "\n",
    "OUT_DIR=\"wordcount_result_\"$(date +\"%s%6N\")\n",
    "NUM_REDUCERS=8\n",
    "\n",
    "yarn jar /opt/cloudera/parcels/CDH/lib/hadoop-mapreduce/hadoop-streaming.jar \\\n",
    "    -D mapred.jab.name=\"Streaming wordCount\" \\\n",
    "    -D mapreduce.job.reduces=${NUM_REDUCERS} \\\n",
    "    -D mapreduce.partition.keypartitioner.options=-k1,1 \\\n",
    "    -files mapper2.py,reducer.py,/datasets/stop_words_en.txt \\\n",
    "    -mapper \"python mapper2.py\" \\\n",
    "    -combiner \"python reducer.py\" \\\n",
    "    -reducer \"python reducer.py\" \\\n",
    "    -partitioner org.apache.hadoop.mapred.lib.KeyFieldBasedPartitioner \\\n",
    "    -input /data/wiki/en_articles_part \\\n",
    "    -output ${OUT_DIR} > /dev/null 2> output.log\n",
    "\n",
    "cat output.log | python ./counter2.py\n",
    "cat output.log >&2"
   ]
  },
  {
   "cell_type": "code",
   "execution_count": null,
   "metadata": {},
   "outputs": [],
   "source": []
  },
  {
   "cell_type": "code",
   "execution_count": null,
   "metadata": {},
   "outputs": [],
   "source": []
  }
 ],
 "metadata": {
  "kernelspec": {
   "display_name": "Python 2",
   "language": "python",
   "name": "python2"
  },
  "language_info": {
   "codemirror_mode": {
    "name": "ipython",
    "version": 2
   },
   "file_extension": ".py",
   "mimetype": "text/x-python",
   "name": "python",
   "nbconvert_exporter": "python",
   "pygments_lexer": "ipython2",
   "version": "2.7.12"
  }
 },
 "nbformat": 4,
 "nbformat_minor": 2
}
